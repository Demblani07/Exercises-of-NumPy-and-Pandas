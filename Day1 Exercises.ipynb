{
 "cells": [
  {
   "cell_type": "markdown",
   "id": "2325c11c",
   "metadata": {},
   "source": [
    "Day 1 Hands on quick exercise: Part 2: 10 mins\n",
    " \n",
    "Creating a dummy data of 34 data items or more\n",
    "explore the data: type. shape, mathematical operations\n",
    "Convert your dummy data into an array.\n",
    "type. shape, mathematical operations"
   ]
  },
  {
   "cell_type": "code",
   "execution_count": 8,
   "id": "ebd4362e",
   "metadata": {},
   "outputs": [
    {
     "name": "stdout",
     "output_type": "stream",
     "text": [
      "C:\\Users\\DELL\\OneDrive\\Desktop\\New folder\n"
     ]
    }
   ],
   "source": [
    "import os\n",
    "print(os.getcwd())"
   ]
  },
  {
   "cell_type": "code",
   "execution_count": 11,
   "id": "b282f37f",
   "metadata": {},
   "outputs": [],
   "source": [
    "data = [97, 2, 43, 56, 39, 21, 54, 73, 52, 48, 33, 42, 36, 67, 50, 55, 81, 12, 12, 85, 2, 33, 50, 94,\n",
    " 51, 94, 7, 11, 85, 44, 59, 84, 73, 61, 86]"
   ]
  },
  {
   "cell_type": "code",
   "execution_count": 12,
   "id": "e3fbf56b",
   "metadata": {},
   "outputs": [
    {
     "name": "stdout",
     "output_type": "stream",
     "text": [
      "[97, 2, 43, 56, 39, 21, 54, 73, 52, 48, 33, 42, 36, 67, 50, 55, 81, 12, 12, 85, 2, 33, 50, 94, 51, 94, 7, 11, 85, 44, 59, 84, 73, 61, 86]\n"
     ]
    }
   ],
   "source": [
    "print(data)"
   ]
  },
  {
   "cell_type": "code",
   "execution_count": 13,
   "id": "2f338447",
   "metadata": {},
   "outputs": [
    {
     "data": {
      "text/plain": [
       "list"
      ]
     },
     "execution_count": 13,
     "metadata": {},
     "output_type": "execute_result"
    }
   ],
   "source": [
    "type(data)"
   ]
  },
  {
   "cell_type": "code",
   "execution_count": 14,
   "id": "4dc660f2",
   "metadata": {},
   "outputs": [
    {
     "ename": "NameError",
     "evalue": "name 'shape' is not defined",
     "output_type": "error",
     "traceback": [
      "\u001b[1;31m---------------------------------------------------------------------------\u001b[0m",
      "\u001b[1;31mNameError\u001b[0m                                 Traceback (most recent call last)",
      "Cell \u001b[1;32mIn[14], line 1\u001b[0m\n\u001b[1;32m----> 1\u001b[0m shape\u001b[38;5;241m.\u001b[39mdata\n",
      "\u001b[1;31mNameError\u001b[0m: name 'shape' is not defined"
     ]
    }
   ],
   "source": [
    "shape.data # list data not allow to shape"
   ]
  },
  {
   "cell_type": "code",
   "execution_count": 16,
   "id": "5f626a4f",
   "metadata": {},
   "outputs": [
    {
     "name": "stdout",
     "output_type": "stream",
     "text": [
      "[97  2 43 56 39 21 54 73 52 48 33 42 36 67 50 55 81 12 12 85  2 33 50 94\n",
      " 51 94  7 11 85 44 59 84 73 61 86]\n"
     ]
    }
   ],
   "source": [
    "# Convert your dummy data into an array.\n",
    "import numpy as np\n",
    "\n",
    "dummy_data = np.array(data)\n",
    "print(dummy_data)"
   ]
  },
  {
   "cell_type": "code",
   "execution_count": 17,
   "id": "e180cb51",
   "metadata": {},
   "outputs": [
    {
     "data": {
      "text/plain": [
       "numpy.ndarray"
      ]
     },
     "execution_count": 17,
     "metadata": {},
     "output_type": "execute_result"
    }
   ],
   "source": [
    "type(dummy_data)"
   ]
  },
  {
   "cell_type": "code",
   "execution_count": 18,
   "id": "fb37b09d",
   "metadata": {},
   "outputs": [
    {
     "data": {
      "text/plain": [
       "(35,)"
      ]
     },
     "execution_count": 18,
     "metadata": {},
     "output_type": "execute_result"
    }
   ],
   "source": [
    "np.shape(dummy_data)"
   ]
  },
  {
   "cell_type": "code",
   "execution_count": 19,
   "id": "2d9377b8",
   "metadata": {},
   "outputs": [
    {
     "data": {
      "text/plain": [
       "51.2"
      ]
     },
     "execution_count": 19,
     "metadata": {},
     "output_type": "execute_result"
    }
   ],
   "source": [
    "np.mean(dummy_data)"
   ]
  },
  {
   "cell_type": "code",
   "execution_count": 20,
   "id": "74d2ecc6",
   "metadata": {},
   "outputs": [
    {
     "data": {
      "text/plain": [
       "51.0"
      ]
     },
     "execution_count": 20,
     "metadata": {},
     "output_type": "execute_result"
    }
   ],
   "source": [
    "np.median(dummy_data)"
   ]
  },
  {
   "cell_type": "markdown",
   "id": "b3a00b27",
   "metadata": {},
   "source": [
    "Day 1 Hands on exercise : Part 2:\n",
    " \n",
    "Lab Practice Problems for Python Libraries in Data Analysis\n",
    "Objective: Introduce new learners to Python's NumPy and pandas libraries for basic data manipulation and analysis using DataFrame\n",
    "Problem 1: Getting Started with NumPy\n",
    "Create a 1D NumPy array with the numbers 1 to 10.\n",
    "Reshape the array into a 2x5 matrix.\n",
    "Extract the first row and the second column of the matrix.\n",
    "Compute the mean, sum, and standard deviation of all elements in the matrix.\n",
    "Problem 2: Understanding pandas DataFrame\n",
    "Create a pandas DataFrame with the following data:\n",
    "Name\tAge\tGender\tCity\tMarks\n",
    "Alice\t20\tF\tNew York\t85\n",
    "Bob\t22\tM\tBoston\t90\n",
    "Carol\t19\tF\tChicago\t78\n",
    "Dave\t21\tM\tSeattle\t88\n",
    " \n",
    " \n",
    "These exercises will help learners build a strong foundation in using NumPy and pandas for data manipulation and analysis!"
   ]
  },
  {
   "cell_type": "code",
   "execution_count": 40,
   "id": "046cd562",
   "metadata": {},
   "outputs": [
    {
     "name": "stdout",
     "output_type": "stream",
     "text": [
      "Matrix:\n",
      "[[ 1  2  3  4  5]\n",
      " [ 6  7  8  9 10]]\n",
      "\n",
      "First Row:\n",
      "[1 2 3 4 5]\n",
      "\n",
      "Second Column:\n",
      "[2 7]\n",
      "\n",
      "Statistics:\n",
      "Mean: 5.5\n",
      "Sum: 55\n",
      "Standard Deviation: 2.8722813232690143\n"
     ]
    }
   ],
   "source": [
    "# problem 1:\n",
    "import numpy as np\n",
    "\n",
    "# Create and reshape the array\n",
    "array_1d = np.arange(1, 11)\n",
    "matrix_2x5 = array_1d.reshape(2, 5)\n",
    "\n",
    "# Extract the first row\n",
    "first_row = matrix_2x5[0, :]  \n",
    "\n",
    "# Extract the second column\n",
    "second_column = matrix_2x5[:, 1]  \n",
    "\n",
    "# Compute statistics\n",
    "mean_value = np.mean(matrix_2x5)  \n",
    "sum_value = np.sum(matrix_2x5)    \n",
    "std_deviation = np.std(matrix_2x5) \n",
    "\n",
    "# Output\n",
    "print(\"Matrix:\")\n",
    "print(matrix_2x5)\n",
    "\n",
    "print(\"\\nFirst Row:\")\n",
    "print(first_row)\n",
    "\n",
    "print(\"\\nSecond Column:\")\n",
    "print(second_column)\n",
    "\n",
    "print(\"\\nStatistics:\")\n",
    "print(f\"Mean: {mean_value}\")\n",
    "print(f\"Sum: {sum_value}\")\n",
    "print(f\"Standard Deviation: {std_deviation}\")"
   ]
  },
  {
   "cell_type": "code",
   "execution_count": 42,
   "id": "634e7cc9",
   "metadata": {},
   "outputs": [
    {
     "data": {
      "text/html": [
       "<div>\n",
       "<style scoped>\n",
       "    .dataframe tbody tr th:only-of-type {\n",
       "        vertical-align: middle;\n",
       "    }\n",
       "\n",
       "    .dataframe tbody tr th {\n",
       "        vertical-align: top;\n",
       "    }\n",
       "\n",
       "    .dataframe thead th {\n",
       "        text-align: right;\n",
       "    }\n",
       "</style>\n",
       "<table border=\"1\" class=\"dataframe\">\n",
       "  <thead>\n",
       "    <tr style=\"text-align: right;\">\n",
       "      <th></th>\n",
       "      <th>Name</th>\n",
       "      <th>Age</th>\n",
       "      <th>Gender</th>\n",
       "      <th>City</th>\n",
       "      <th>Marks</th>\n",
       "    </tr>\n",
       "  </thead>\n",
       "  <tbody>\n",
       "    <tr>\n",
       "      <th>0</th>\n",
       "      <td>Alice</td>\n",
       "      <td>20</td>\n",
       "      <td>F</td>\n",
       "      <td>New York</td>\n",
       "      <td>85</td>\n",
       "    </tr>\n",
       "    <tr>\n",
       "      <th>1</th>\n",
       "      <td>Bob</td>\n",
       "      <td>22</td>\n",
       "      <td>M</td>\n",
       "      <td>Boston</td>\n",
       "      <td>90</td>\n",
       "    </tr>\n",
       "    <tr>\n",
       "      <th>2</th>\n",
       "      <td>Carol</td>\n",
       "      <td>19</td>\n",
       "      <td>F</td>\n",
       "      <td>Chicago</td>\n",
       "      <td>78</td>\n",
       "    </tr>\n",
       "    <tr>\n",
       "      <th>3</th>\n",
       "      <td>Dave</td>\n",
       "      <td>21</td>\n",
       "      <td>M</td>\n",
       "      <td>Seattle</td>\n",
       "      <td>88</td>\n",
       "    </tr>\n",
       "  </tbody>\n",
       "</table>\n",
       "</div>"
      ],
      "text/plain": [
       "    Name  Age Gender      City  Marks\n",
       "0  Alice   20      F  New York     85\n",
       "1    Bob   22      M    Boston     90\n",
       "2  Carol   19      F   Chicago     78\n",
       "3   Dave   21      M   Seattle     88"
      ]
     },
     "execution_count": 42,
     "metadata": {},
     "output_type": "execute_result"
    }
   ],
   "source": [
    "# Problem 2:\n",
    "import pandas as pd\n",
    "\n",
    "# Data dictionary\n",
    "data = {\n",
    "    \"Name\": [\"Alice\", \"Bob\", \"Carol\", \"Dave\"],\n",
    "    \"Age\": [20, 22, 19, 21],\n",
    "    \"Gender\": [\"F\", \"M\", \"F\", \"M\"],\n",
    "    \"City\": [\"New York\", \"Boston\", \"Chicago\", \"Seattle\"],\n",
    "    \"Marks\": [85, 90, 78, 88]\n",
    "}\n",
    "\n",
    "# Create the DataFrame\n",
    "df = pd.DataFrame(data)\n",
    "\n",
    "# Display the DataFrame\n",
    "df\n"
   ]
  },
  {
   "cell_type": "code",
   "execution_count": null,
   "id": "25ff9c63",
   "metadata": {},
   "outputs": [],
   "source": []
  }
 ],
 "metadata": {
  "hide_input": false,
  "kernelspec": {
   "display_name": "Python 3 (ipykernel)",
   "language": "python",
   "name": "python3"
  },
  "language_info": {
   "codemirror_mode": {
    "name": "ipython",
    "version": 3
   },
   "file_extension": ".py",
   "mimetype": "text/x-python",
   "name": "python",
   "nbconvert_exporter": "python",
   "pygments_lexer": "ipython3",
   "version": "3.11.5"
  }
 },
 "nbformat": 4,
 "nbformat_minor": 5
}
